{
 "cells": [
  {
   "cell_type": "markdown",
   "metadata": {},
   "source": [
    "# Education is the key to saving the world.\n",
    "\n",
    "> Every child deserves a chance for success; providing accessible and equitable education to all is a major factor in directly contributing to that chance for most children. Lunar Engineering focuses on furthering research and development furthering equitable education.\n",
    "> \n",
    "> Taking care of our children is our responsibility.\n",
    "\n",
    "- sticky_rank: 1\n",
    "- toc: false\n",
    "- branch: master\n",
    "- comments: true\n",
    "- categories: [blog, LunarEngineer]\n",
    "- hide: false\n",
    "- search_exclude: true"
   ]
  },
  {
   "cell_type": "markdown",
   "metadata": {},
   "source": [
    "Welcome to the first blog post for the Lunar Engineer.\n",
    "\n",
    "Over the last forty years or so I've had a chance to learn (at least a little bit) and do a lot of stupid stuff.\n",
    "\n",
    "I'm a guy who still can't decide what I want to do when I grow up, but at least I've found something interesting to work on in the meantime; I'm going to work towards saving the world (and try to have some fun along the way.)"
   ]
  },
  {
   "cell_type": "markdown",
   "metadata": {},
   "source": [
    "## Fun First\n",
    "\n",
    "This is a blog for me to share my thoughts and whatever else strikes my fancy. Sometimes that will be a snarky comment, sometimes it will be a frustrated rant, sometimes it will be some of the work that I'm doing, and sometimes it'll be my son's Lego creations!"
   ]
  },
  {
   "cell_type": "markdown",
   "metadata": {},
   "source": [
    "## Then, The World\n",
    "\n",
    "To save the world we need to answer a question.\n",
    "\n",
    "What's wrong with the world?\n",
    "\n",
    "If you think you've got an answer, I invite you to choose again!\n",
    "\n",
    "One person can't give you the answer. One person can't provide a solution.\n",
    "\n",
    "The only way we're going to make survival of the human species attainable is by ensuring that humanity has unfettered access to high quality education with individualized assistance to maximize potential.\n",
    "\n",
    "If you don't immediately see why this is the single best solution for fixing the future, I invite you to consider something. What happens when every potential Einstein has no limit on what they can learn? There are many immediate and tangible benefits of having unfettered access to learning.\n",
    "\n",
    "That is something which we have the tools and technology to do."
   ]
  },
  {
   "cell_type": "markdown",
   "metadata": {},
   "source": [
    "![Who knows what questions we could answer?](../images/2021-01-06-world.png)"
   ]
  },
  {
   "cell_type": "markdown",
   "metadata": {},
   "source": [
    "## What is Lunar Engineering Doing?\n",
    "\n",
    "We are designing an application called PAIRS (Personalized Adaptive Information Retrieval System) which will be capable of learning how to maximize the rate of *information gain and skills acquisition* for individuals. I'm also going to be collecting research aiming to provide the skill set for anyone coming after me.\n",
    "\n",
    "![My youngest daughter loves PAIRSy's face.](../images/2021-01-06-pairsy.png)"
   ]
  },
  {
   "cell_type": "markdown",
   "metadata": {},
   "source": [
    "### PAIRS Framework\n",
    "\n",
    "The PAIRS application maintains contextual embeddings and explicit links between embeddings for learning content, students, and measurement devices (tests, quizzes, user feedback e.g.) and uses those embeddings to construct an internal data structure which allows for efficient querying of these spaces. It maintains the embeddings in a manner so as to maximize the rate of information gain and retention for the students which it serves, which it influences by selecting training content.\n",
    "\n",
    "I'm going to be using this venue for communication and accountability; up front I'm going to lay out what work will be done as part of my quest to save the world. The posts for each of these topics will come as the research is done and the learning melded into the PAIRS application. These posts are aimed at an elementary education audience, because I'm selling this idea to the teachers.\n",
    "\n",
    "That's the only thing I'm selling."
   ]
  },
  {
   "cell_type": "markdown",
   "metadata": {},
   "source": [
    "## Research Areas"
   ]
  },
  {
   "cell_type": "markdown",
   "metadata": {},
   "source": [
    "### Human Learning Theory\n",
    "\n",
    "Learning is going through a transformative process.\n",
    "\n",
    "Learning theories have solidified through application of social and neurological study into this core. This all all Human Learning Theory and it deals with how *people* learn."
   ]
  },
  {
   "cell_type": "markdown",
   "metadata": {},
   "source": [
    "### Machine Learning Theory\n",
    "\n",
    "The last decade or two have seen a revolution for [machine learning](https://www.cs.cmu.edu/~avrim/Talks/mlt.pdf), which does share many concepts with human learning, for various reasons.\n",
    "\n",
    "This revolution has seen capability, capacity, and complexity for machine learners grow to the point where models can be sufficiently complex enough to solve real world problems, some of which are [truly revolutionary](https://www.nature.com/articles/d41586-020-03348-4). (Some perhaps, [not as immediately useful](https://towardsdatascience.com/use-reinforcement-learning-to-train-a-flappy-bird-never-to-die-35b9625aaecc), but still neat.)\n",
    "\n",
    "This covers a pretty wide range of topics, so there's going to be a lot of math. This is also, to put it mildly, a lot of material.\n",
    "\n",
    "![Didn't you know that machine learning is magic?](../images/2021-01-06-unicornfarts.png)"
   ]
  },
  {
   "cell_type": "markdown",
   "metadata": {},
   "source": [
    "### Human Learning in an Automated Learning Framework\n",
    "\n",
    "People are not computers but they can benefit from the framework that's been established for computational learning! Recent progress hasn't fully transitioned back to human learners, though I believe it can. This blog captures research and development progress put towards the goal of embedding human learners into a computational learning theoretical framework and allows for optimizing learning in a group of humans."
   ]
  },
  {
   "cell_type": "markdown",
   "metadata": {},
   "source": [
    "### Optimizing Learners in this Space\n",
    "\n",
    "There's a lot to talk about here and the framework is going to be mildly complex. Here is where all the work is done to predict whether or not ideas are connected, how to find related ideas quickly, how to maintain all the information efficiently, and more."
   ]
  },
  {
   "cell_type": "markdown",
   "metadata": {},
   "source": [
    "The punchline? We can optimize individual information gain and persistence in human learners without requiring an individual special educator.\n",
    "\n",
    "One application can help every child.\n",
    "\n",
    "What does that mean? In short, we fix the world.\n",
    "\n",
    "What? You're out of your mind...\n",
    "\n",
    "No, I'm not.\n",
    "\n",
    "Here's a short story about how education makes you more likely to select policy that benefits society as a whole as a result of allowing you to localize your world as a very small component of a larger world. In short, education is positively correlated with empathy. Education is positively correlated with income. Education is positively correlated with measures of satisfaction.\n",
    "\n",
    "In short, making people smarter generally makes them happier and more productive.\n",
    "\n",
    "Not everyone gets a fair shake, though. Some people have learning disabilities, some people are economically impoverished (dirt poor), and some others don't succeed for other reasons. Education is not freely available everywhere, to everyone, especially individualized attention. That's nearly impossible for some school systems to provide.\n",
    "\n",
    "What if (here is the thesis) we provide a learning algorithm that can learn to optimally select training material for a learner to build a skill. What happens when we redirect all the capabilities that statistical learning and efficient computation have brought into optimizing our kids?\n",
    "\n",
    "I say they're going to save the world, or at least try."
   ]
  }
 ],
 "metadata": {
  "language_info": {
   "name": "python"
  },
  "orig_nbformat": 4
 },
 "nbformat": 4,
 "nbformat_minor": 2
}
