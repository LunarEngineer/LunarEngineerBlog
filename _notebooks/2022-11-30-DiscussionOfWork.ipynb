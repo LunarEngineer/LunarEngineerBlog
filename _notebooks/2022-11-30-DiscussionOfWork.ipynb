{
 "cells": [
  {
   "cell_type": "markdown",
   "metadata": {},
   "source": [
    "# A Path Forward\n",
    "\n",
    "[The Technological Singularity](https://en.wikipedia.org/wiki/Technological_singularity) hypothesis states\n",
    "\n",
    "> ...if an AI were created with engineering capabilities that matched or surpassed those of its human creators, it would have the potential to autonomously improve its own software and hardware to design an even more capable machine, which could repeat the process in turn.\n",
    "\n",
    "- sticky_rank: 2\n",
    "- toc: true\n",
    "- branch: master\n",
    "- comments: true\n",
    "- categories: [distributed computation, pyarrow, numpy]\n",
    "- hide: false\n",
    "- search_exclude: false"
   ]
  },
  {
   "cell_type": "markdown",
   "metadata": {},
   "source": [
    "My job, and my hobby, is thinking about how *computation* works. How do numbers flow through your computer, go through some arcane numeric witchery, and wind up doing exactly what you need them to do?\n",
    "\n",
    "It helps to imagine a computer in the *same way* a famous science fiction novel does; in the book The Three Body Problem (Cixin Liu) humanity builds a *computer* by using people holding flags to represent information.\n",
    "\n",
    "Armies of people grouped together on a field, arrayed in patterns and structures, waving flags and sending riders on horses to communicate, can pretend (moderately well) to be a computation engine. Pretty neat.\n",
    "\n",
    "That doesn't *quite* literally translate to modern computing, but the metaphor is solid.\n",
    "\n",
    "To get an idea for how this works at a very low level, you should check out the book [Code](https://www.goodreads.com/book/show/44882.Code). The first few chapters do a pretty good job of explaining how a computer is built and used; that analogy, using people, created a living computer in the book. In *real life* we create computers using silicon. The lines of communication are ever smaller routes for electricity to flow between simple components."
   ]
  },
  {
   "cell_type": "markdown",
   "metadata": {},
   "source": [
    "## The Task\n",
    "\n",
    "I like to build and I have a vision; an *efficient* and *effective* method of providing information to all who seek in order to help them learn as fast as possible. I envision a guiding intelligence capable of understanding how learners learn. I have a dream in which every learner fulfills their potential.\n",
    "\n",
    "This vision is supported by a framework which allows for producing new information and work in a manner which is efficient, recordable, and repeatable. Each independent simple machine is bound to its own environment, but the routes of communication allow it to connect to other simple machines *externally* to its environment.\n",
    "\n",
    "The design of the framework requires thinking about what it will need to represent, and what it will need to be able to do.\n",
    "\n",
    "Any architect or engineer wishing to build an elaborate mechanism requires the capability to see and understand the state of the mechanism at any time.\n",
    "They require understanding which components are required for which other components.\n",
    "They can logically follow *information* as it flows through a chain of operations.\n",
    "They can attach components to components to buid a *whole*.\n",
    "\n",
    "This is something that should scale to infinity but should be usable at a small scale."
   ]
  },
  {
   "cell_type": "markdown",
   "metadata": {},
   "source": [
    "### Requirements\n",
    "\n",
    "* This framework is self-contained.\n",
    "* This framework provides the capacity to start from a *tabula rasa* and incrementally build a complex machine.\n",
    "* Each individual component *only turns on when it is needed*.\n",
    "* Each individual component is marked with metadata.\n",
    "* Each individual component is capable of representing its *input*, its *output*, its *parameters*, its *metadata*, and potentially its *artifacts*.\n",
    "* The framework provides the capacity to produce information as a *promise* of data or *data in memory* via simple API.\n",
    "* The framework provides the capacity to share metadata upon request for individual components or batches of components.\n",
    "* The framework provides the capacity to centrally register all computation.\n",
    "* The framework explicitly represents a computation graph.\n",
    "* The framework can explicitly separate a *promise* from a *product*.\n",
    "* The framework can follow a line of computation down a computation graph.\n",
    "* The framework can measure *effort* and *time* required to resolve a promise or to access a product.\n",
    "* The framework is capable of representing *promises* and *products* as **embedded representations** in a functional space.\n",
    "* The framework is capable of modifying the embedded locations of any individual component.\n",
    "* The framework is capable of representing the space of embedded locations with an efficient data structure which allows for spatial query and nearest neighbor.\n",
    "* The aforementioned data structure must be online and adaptable, not static."
   ]
  },
  {
   "cell_type": "markdown",
   "metadata": {},
   "source": [
    "### Technical Stack\n",
    "\n",
    "* This framework represents, and loads, data using PyArrow.\n",
    "* This framework manages representations of data using DVC.\n",
    "* This framework schedules, and runs, computation using Kubernetes."
   ]
  }
 ],
 "metadata": {
  "interpreter": {
   "hash": "949777d72b0d2535278d3dc13498b2535136f6dfe0678499012e853ee9abcab1"
  },
  "kernelspec": {
   "display_name": "Python 3.9.12 64-bit",
   "language": "python",
   "name": "python3"
  },
  "language_info": {
   "codemirror_mode": {
    "name": "ipython",
    "version": 3
   },
   "file_extension": ".py",
   "mimetype": "text/x-python",
   "name": "python",
   "nbconvert_exporter": "python",
   "pygments_lexer": "ipython3",
   "version": "3.9.12"
  },
  "orig_nbformat": 4
 },
 "nbformat": 4,
 "nbformat_minor": 2
}
