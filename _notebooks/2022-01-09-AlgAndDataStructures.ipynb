{
 "cells": [
  {
   "cell_type": "markdown",
   "metadata": {},
   "source": [
    "# Algorithms, Data Structures, And What the Hell Those Have to do with Learning"
   ]
  },
  {
   "cell_type": "markdown",
   "metadata": {},
   "source": [
    "# Introduction\n",
    "\n",
    "\"I'd like to do something amazing.\"\n",
    "\n",
    "That's not a very descriptive thing to say, but sometimes it's good enough to get you started.\n",
    "\n",
    "What takes your dream from this half-assed idea of a mission statement to something tangible? How do you do that?\n",
    "\n",
    "I guess one way you *could* do that would be to make a list of exact rules that you use every time to appropriately act in any situation. Then, you could follow these rules exactly.\n",
    "\n",
    "Well, that's an *algorithm*."
   ]
  },
  {
   "cell_type": "code",
   "execution_count": null,
   "metadata": {},
   "outputs": [],
   "source": [
    "math = \"dumb\"\n",
    "timeline = {\n",
    "    'age_of_mandated_retirement_withdrawal': 72, 'mandated withdrawal amount', 'tax bracket at that time', 'when sell lvnworth house (its income)', 'does selling house change income bracket'\n",
    "}"
   ]
  },
  {
   "cell_type": "markdown",
   "metadata": {},
   "source": [
    "## Algorithm\n",
    "\n",
    "An algorithm, according to Dasgupta and crew, is:\n",
    "\n",
    "1. Precise,\n",
    "2. Unambiguous\n",
    "3. A few other things.\n",
    "\n",
    "It's a step-by-step, paint-by-numbers, solution for the problem it's intended to solve and it normally uses math to lay out the solution.\n",
    "\n",
    "But in order to be able to do you need to be able to talk about things in a *really concrete way*. You need to be able to speak about the world in *precise and unambiguous ways*.\n",
    "\n",
    "In order to do that you create *data structures*.\n",
    "\n",
    "## [Data Structure](https://en.wikipedia.org/wiki/Data_structure)\n",
    "\n",
    "[Sets deep dive](https://en.wikipedia.org/wiki/Zermelo%E2%80%93Fraenkel_set_theory)\n",
    "A data structure is a rigid framework for expressing how bits of information are stored and accessed. It's a way to represent an Item, or even a Set containing many Items.\n",
    "\n",
    "I'm going to make up a data structure now and I'll call it a Managed Information Forest.\n",
    "\n",
    "\n",
    "\n",
    "Data structures - rigid framework for expressing how bits of information work with each other (e.g. list, or linked list)\n",
    "Learning - "
   ]
  },
  {
   "cell_type": "markdown",
   "metadata": {},
   "source": [
    "Chat about algorithms and data structures and why they're generally important. Speak towards efficiency and mention tractibility.\n",
    "\n",
    "Talk about data requirements of deep learners and how stochastic gradient descent requires tons of data."
   ]
  },
  {
   "cell_type": "markdown",
   "metadata": {},
   "source": [
    "## Data Structures"
   ]
  },
  {
   "cell_type": "markdown",
   "metadata": {},
   "source": [
    "A data structure is equatable to a se of formal rules for how I choose to define some *thing*.\n",
    "\n",
    "Let's say that I want to close my eyes and imagine that I've got a new friend Bob, who is the number 6."
   ]
  },
  {
   "cell_type": "markdown",
   "metadata": {},
   "source": [
    "### Atomic Data Structures"
   ]
  },
  {
   "cell_type": "code",
   "execution_count": 14,
   "metadata": {},
   "outputs": [],
   "source": [
    "# Here we assign the value of 6 to Bob.\n",
    "bob = 6"
   ]
  },
  {
   "cell_type": "markdown",
   "metadata": {},
   "source": [
    "Because I say that Bob is the number 6 I completely define everything about Bob. I know what I'm allowed to do with Bob.\n",
    "\n",
    "Btw, Bob is an Integer."
   ]
  },
  {
   "cell_type": "code",
   "execution_count": 21,
   "metadata": {},
   "outputs": [
    {
     "name": "stdout",
     "output_type": "stream",
     "text": [
      "Bob is an <class 'int'>\n",
      "I have 71 properties and methods\n"
     ]
    }
   ],
   "source": [
    "print(f\"Bob is an {type(bob)}\")\n",
    "# You could run this command to get a fascinating look into how Bob works.\n",
    "# help(bob)\n",
    "# You can think of dir as 'What can you do'?\n",
    "print(f\"I have {len(dir(bob))} properties and methods\")"
   ]
  },
  {
   "cell_type": "markdown",
   "metadata": {},
   "source": [
    "I can add Bob to Bob or to Susan, who is also an integer."
   ]
  },
  {
   "cell_type": "code",
   "execution_count": 22,
   "metadata": {},
   "outputs": [
    {
     "data": {
      "text/plain": [
       "20"
      ]
     },
     "execution_count": 22,
     "metadata": {},
     "output_type": "execute_result"
    }
   ],
   "source": [
    "susan = 14\n",
    "bob + susan"
   ]
  },
  {
   "cell_type": "code",
   "execution_count": 23,
   "metadata": {},
   "outputs": [
    {
     "data": {
      "text/plain": [
       "606"
      ]
     },
     "execution_count": 23,
     "metadata": {},
     "output_type": "execute_result"
    }
   ],
   "source": [
    "bob + 100*bob"
   ]
  },
  {
   "cell_type": "markdown",
   "metadata": {},
   "source": [
    "A *data structure* houses information (the value six) and all the tools to access or use the information (defines how to add, subtract, etc.)\n",
    "\n",
    "An integer is a data structure, as well as being a data type.\n",
    "\n",
    "Rabbit Hole : https://en.wikipedia.org/wiki/Integer_(computer_science)"
   ]
  },
  {
   "cell_type": "markdown",
   "metadata": {},
   "source": [
    "### Container Data Structures"
   ]
  },
  {
   "cell_type": "markdown",
   "metadata": {},
   "source": [
    "Comes the time when we want to talk about a bunch of numbers together, generally collecting similar numbers together.\n",
    "\n",
    "Basic container structures let us start examining things taken *in relation to* one another.\n",
    "\n",
    "I can line everyone up by size, or shape, or cut of their jib. Whatever.\n",
    "\n",
    "Container strucutres range from simple tuples and lists and dictionaries to more complex structures like B Trees."
   ]
  },
  {
   "cell_type": "markdown",
   "metadata": {},
   "source": [
    "### Hash Table"
   ]
  },
  {
   "cell_type": "markdown",
   "metadata": {},
   "source": [
    "## Data Structures\n",
    "\n",
    "\n",
    "* Hash Table\n",
    "* Binary Tree\n",
    "* Red Black Trees\n"
   ]
  },
  {
   "cell_type": "markdown",
   "metadata": {},
   "source": [
    "### Binary Tree"
   ]
  },
  {
   "cell_type": "markdown",
   "metadata": {},
   "source": [
    "Hash Tables\n",
    "Binary Trees\n",
    "Red Black Trees"
   ]
  },
  {
   "cell_type": "markdown",
   "metadata": {},
   "source": [
    "https://www.usenix.org/system/files/conference/atc16/atc16_paper-mitchell.pdf\n",
    "\n",
    "https://cs.uwaterloo.ca/~kmsalem/courses/CS848W10/presentations/Eflov-BTree.pdf\n",
    "\n",
    "https://edutechlearners.com/download/Introduction_to_algorithms-3rd%20Edition.pdf\n",
    "\n",
    "https://www.cs.dartmouth.edu/~thc/\n",
    "\n",
    "https://medium.com/javarevisited/10-best-books-for-data-structure-and-algorithms-for-beginners-in-java-c-c-and-python-5e3d9b478eb1"
   ]
  },
  {
   "cell_type": "markdown",
   "metadata": {},
   "source": []
  }
 ],
 "metadata": {
  "interpreter": {
   "hash": "e7370f93d1d0cde622a1f8e1c04877d8463912d04d973331ad4851f04de6915a"
  },
  "kernelspec": {
   "display_name": "Python 3.8.5 64-bit",
   "language": "python",
   "name": "python3"
  },
  "language_info": {
   "codemirror_mode": {
    "name": "ipython",
    "version": 3
   },
   "file_extension": ".py",
   "mimetype": "text/x-python",
   "name": "python",
   "nbconvert_exporter": "python",
   "pygments_lexer": "ipython3",
   "version": "3.8.5"
  },
  "orig_nbformat": 4
 },
 "nbformat": 4,
 "nbformat_minor": 2
}
