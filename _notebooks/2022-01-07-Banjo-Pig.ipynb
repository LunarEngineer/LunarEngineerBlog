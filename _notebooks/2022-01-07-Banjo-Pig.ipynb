{
 "cells": [
  {
   "cell_type": "markdown",
   "metadata": {},
   "source": [
    "# Banjo Pig\n",
    "\n",
    "- toc: false\n",
    "- branch: master\n",
    "- comments: true\n",
    "- categories: [ben, funny, lego, creator]\n",
    "- hide: false\n",
    "- search_exclude: false"
   ]
  },
  {
   "cell_type": "markdown",
   "metadata": {},
   "source": [
    "![Well, folks, that's the way it really happened.](../images/2021-01-07-banjopig.jpg)"
   ]
  },
  {
   "cell_type": "markdown",
   "metadata": {},
   "source": [
    "## Lego Creations\n",
    "\n",
    "My son is creative and loves Legos; this particular banjo playing pig he created would love to lay down a beat for you!"
   ]
  }
 ],
 "metadata": {
  "language_info": {
   "name": "python"
  },
  "orig_nbformat": 4
 },
 "nbformat": 4,
 "nbformat_minor": 2
}
