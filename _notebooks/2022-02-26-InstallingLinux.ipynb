{
 "cells": [
  {
   "cell_type": "markdown",
   "metadata": {},
   "source": [
    "# What are operating systems and why should I care? (Installing Linux)\n",
    "\n",
    "> Every computer, everywhere, needs some basic way to be able to talk to the hardware that it sits on top of.\n",
    "> That's your operating system.\n",
    "> If you're going to be attempting to deploy applications at scale you should be able to understand every step in the technical process, and this is the first step.\n",
    "> Target Linux first if you're doing development in this space; Windows is just a headache.\n",
    "\n",
    "- sticky_rank: 2\n",
    "- toc: false\n",
    "- branch: master\n",
    "- comments: true\n",
    "- categories: [blog, linux, operating systems]\n",
    "- hide: true\n",
    "- search_exclude: true"
   ]
  },
  {
   "cell_type": "markdown",
   "metadata": {},
   "source": [
    "## What is an operating system?\n",
    "\n",
    "In layman's terminology an operating system is a bunch of software designed to allow a user to (normally indirectly) issue commands to drive some intended change in the hardware environment.\n",
    "\n",
    "In my time I've used [Commodore KERNAL/BASIC](https://github.com/mist64/c64rom), [DOS](https://en.wikipedia.org/wiki/MS-DOS), Windows 3.1 - 10, and many variants of [UNIX clones](https://www.google.com/search?q=what+is+a+unix+clone).\n",
    "\n",
    "The operating system is the base for tools (like office productivity suites, calculators, web browsers, etc...) to install, run, and manage either the hard drive, the memory buffer, external devices, drivers for a gamepad, or *whatever*."
   ]
  },
  {
   "cell_type": "markdown",
   "metadata": {},
   "source": [
    "## Which operating system do we need and why?\n",
    "\n",
    "We need Linux because:\n",
    "\n",
    "1. [Developing distributed applications which use Windows as a base is silly.](https://www.google.com/search?q=why+do+developers+need+linux)\n",
    "2. Windows is great for daily driving or for gaming, but when it comes time to develop complex, distributed, applications it's generally a non-starter. [Windows Subsystem for Linux](https://docs.microsoft.com/en-us/windows/wsl/about) is a thing *for a reason*.\n",
    "3. We're going to develop a highly available distributed system in a cloud computing environment and our development environment should ideally match the testing and deployment environment."
   ]
  },
  {
   "cell_type": "markdown",
   "metadata": {},
   "source": [
    "## How do we get this up and running?\n",
    "\n",
    "In this particular instance I have a home server that I need to get up and running again, anyways. I'm setting this up using Kubernetes and Terraform on Linux. This walks from *a bare metal system* to provisioning the operating system, installing the software, and validating that it all works."
   ]
  },
  {
   "cell_type": "markdown",
   "metadata": {},
   "source": [
    "## Bare Metal\n",
    "\n",
    "You can build a linux system for yourself, or you get can a bare metal system provisioned in AWS, Azure, Google Cloud, Digital Ocean, or whatever cloud computing environment you want.\n",
    "\n",
    "I have a home server because I host games and media, and because I like to play around with computers.\n",
    "\n",
    "At this point the installation process is tailored towards having physical access to the system; your particular environment will dictate how much of this needs to be done.\n",
    "\n",
    "1. Go get a tool to write a disk image to a physical device. If you're using linux you should check out the documentation for the dd command and you should be aware of how to find the correct address to use if you're targeting a specific removable device. If you're using Windows go download something like [balena etcher](https://www.balena.io/etcher/) to flash an image to a USB.\n",
    "2. Go download whichever particular linux flavor is your preference; I prefer Ubuntu Server LTS because it's familiar, it's widely distributed, has a more than reasonablly long maintenance period, and will work with everything we're going to throw at it.\n",
    "3. Flash the image you downloaded using whatever tooling you selected.\n",
    "4. Plug the removable usb device into the physical server.\n",
    "5. Turn the darn thing on.\n",
    "6. Go through the boot sequence.\n",
    "7. Clone down this repository.\n",
    "8. Run the install script to install the software (k33)\n",
    "\n",
    "This is a [good resource](https://assets.ubuntu.com/v1/f401c3f4-Ubuntu_Server_CLI_pro_tips_2020-04.pdf) for command line interface in a Linux environment."
   ]
  },
  {
   "cell_type": "markdown",
   "metadata": {},
   "source": [
    "Walking through the install for Ubuntu is pretty easy; along the way you can sleect *snaps* which are pre-packaged chunks of software that are common like *microk8s* or *nextcloud* or *aws-cli*. These just help you hit the ground running in certain circumstances, like when you're deploying a new node to a private cloud.\n",
    "\n",
    "I personally ticked off *nextcloud*; it's a simple self-hosted cloud content management solution (think google suite).\n",
    "\n",
    "I did this because it sets up easy remote content sharing."
   ]
  },
  {
   "cell_type": "markdown",
   "metadata": {},
   "source": [
    "Immediately after install you're going to want to do one thing via either automation or by hand; you'll need to generate an SSH key.\n",
    "\n",
    "```sh\n",
    "$ ssh-keygen -t ed25519 -C \"your_email@example.com\"\n",
    "```\n",
    "\n",
    "This will come in handy for a variety of things; cheif amongst them is hooking this up to github so that your server can clone private repositories."
   ]
  },
  {
   "cell_type": "markdown",
   "metadata": {},
   "source": [
    "I set up nextcloud\n",
    "\n",
    "https://docs.nextcloud.com/server/latest/admin_manual/installation/\n",
    "\n",
    "sudo snap install nextcloud\n",
    "# Enable UFW by write out UFW app"
   ]
  }
 ],
 "metadata": {
  "interpreter": {
   "hash": "e7370f93d1d0cde622a1f8e1c04877d8463912d04d973331ad4851f04de6915a"
  },
  "kernelspec": {
   "display_name": "Python 3.8.5 64-bit",
   "language": "python",
   "name": "python3"
  },
  "language_info": {
   "name": "python",
   "version": "3.8.5"
  },
  "orig_nbformat": 4
 },
 "nbformat": 4,
 "nbformat_minor": 2
}
